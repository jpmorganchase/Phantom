{
 "cells": [
  {
   "cell_type": "code",
   "execution_count": 1,
   "metadata": {},
   "outputs": [],
   "source": [
    "import sys\n",
    "from collections import defaultdict\n",
    "from dataclasses import dataclass\n",
    "from typing import List, Optional, Tuple\n",
    "\n",
    "import gym\n",
    "import matplotlib.pyplot as plt\n",
    "import numpy as np\n",
    "import phantom as ph\n",
    "\n",
    "import cloudpickle"
   ]
  },
  {
   "cell_type": "code",
   "execution_count": 70,
   "metadata": {},
   "outputs": [
    {
     "data": {
      "image/png": "[encoded data removed]",
      "text/plain": [
       "<Figure size 432x288 with 1 Axes>"
      ]
     },
     "metadata": {
      "needs_background": "light"
     },
     "output_type": "display_data"
    }
   ],
   "source": [
    "results = cloudpickle.load(open(\"../../../results1.pkl\", \"rb\"))\n",
    "\n",
    "data = defaultdict(list)\n",
    "\n",
    "for result in results:\n",
    "    data[result[\"cost_of_carry\"]].append(result[\"mean_stock_held\"])\n",
    "\n",
    "x = list(data.keys())\n",
    "y = list(map(np.mean, data.values()))\n",
    "\n",
    "plt.scatter(x, y)\n",
    "plt.xlabel(\"Cost of Carry\")\n",
    "plt.ylabel(\"Avg. Stock Held\")\n",
    "plt.show()"
   ]
  },
  {
   "cell_type": "code",
   "execution_count": 18,
   "metadata": {},
   "outputs": [
    {
     "data": {
      "image/png": "[encoded data removed]",
      "text/plain": [
       "<Figure size 432x288 with 1 Axes>"
      ]
     },
     "metadata": {
      "needs_background": "light"
     },
     "output_type": "display_data"
    }
   ],
   "source": [
    "results = cloudpickle.load(open(\"../../../results2.pkl\", \"rb\"))\n",
    "\n",
    "data = defaultdict(list)\n",
    "\n",
    "for result in results:\n",
    "    data[result[\"cost_per_unit\"]].append(result[\"mean_sales\"])\n",
    "\n",
    "x = list(data.keys())\n",
    "y = list(map(np.mean, data.values()))\n",
    "\n",
    "plt.scatter(x, y)\n",
    "plt.xlabel(\"Cost per Unit\")\n",
    "plt.ylabel(\"Mean Sales\")\n",
    "plt.show()"
   ]
  },
  {
   "cell_type": "code",
   "execution_count": 20,
   "metadata": {},
   "outputs": [
    {
     "name": "stdout",
     "output_type": "stream",
     "text": [
      "stock/SHOP1 7.261340000000001\n",
      "sales/SHOP1 8.7314\n",
      "price/SHOP1 1.01\n",
      "missed_sales/SHOP1 1.26654\n",
      "delivered_stock/SHOP1 8.87852\n"
     ]
    }
   ],
   "source": [
    "# Price = 1.0, Cost per Unit = 0.5, Cost of carry = 0.2\n",
    "\n",
    "results = cloudpickle.load(open(\"../../../results3.pkl\", \"rb\"))\n",
    "\n",
    "for metric in results[0].keys():\n",
    "    print(metric, np.mean([m[metric] for m in results]))"
   ]
  },
  {
   "cell_type": "code",
   "execution_count": 29,
   "metadata": {},
   "outputs": [
    {
     "name": "stdout",
     "output_type": "stream",
     "text": [
      "Day 0:\n",
      "  Shop Observations:\tStock: 0\t\tSales: 0\n",
      "  Shop Actions:\t\tRestock Qty: 14\n",
      "Day 1:\n",
      "  Shop Observations:\tStock: 4\t\tSales: 10\n",
      "  Shop Actions:\t\tRestock Qty: 6\n",
      "Day 2:\n",
      "  Shop Observations:\tStock: 3\t\tSales: 7\n",
      "  Shop Actions:\t\tRestock Qty: 6\n",
      "Day 3:\n",
      "  Shop Observations:\tStock: 2\t\tSales: 7\n",
      "  Shop Actions:\t\tRestock Qty: 6\n",
      "Day 4:\n",
      "  Shop Observations:\tStock: 0\t\tSales: 8\n",
      "  Shop Actions:\t\tRestock Qty: 6\n"
     ]
    }
   ],
   "source": [
    "result = cloudpickle.load(open(\"../../../results4.pkl\", \"rb\"))[0]\n",
    "\n",
    "for step in result.steps[:10]:\n",
    "    if step.stage == \"sales_step\":\n",
    "        continue\n",
    "\n",
    "    obs = step.observations['SHOP1']\n",
    "    acts = step.actions['SHOP1']\n",
    "\n",
    "    print(f\"Day {step.i // 2}:\")\n",
    "    print(f\"  Shop Observations:\\tStock: {obs['stock']}\\t\\tSales: {obs['previous_sales']}\")\n",
    "    print(f\"  Shop Actions:\\t\\tRestock Qty: {acts['restock']}\")"
   ]
  },
  {
   "cell_type": "code",
   "execution_count": 32,
   "metadata": {},
   "outputs": [
    {
     "name": "stderr",
     "output_type": "stream",
     "text": [
      "2022-09-02 13:58:59,871\tINFO trainable.py:668 -- Restored on 10.0.8.222 from checkpoint: /home/ubuntu/ray_results/PPO/PPO_SupplyChainEnv_d97bd_00000_0_2022-09-02_08-54-27/checkpoint_005700\n",
      "2022-09-02 13:58:59,873\tINFO trainable.py:677 -- Current state after restoring: {'_iteration': 5700, '_timesteps_total': None, '_time_total': 3190.3455832004547, '_episodes_total': 359100}\n"
     ]
    }
   ],
   "source": [
    "from ray.rllib.algorithms.registry import get_trainer_class\n",
    "from ray.tune.registry import register_env\n",
    "\n",
    "from supply_chain import SupplyChainEnv\n",
    "\n",
    "directory = \"/home/ubuntu/ray_results/PPO/PPO_SupplyChainEnv_d97bd_00000_0_2022-09-02_08-54-27/\"\n",
    "\n",
    "with open(directory + \"params.pkl\", \"rb\") as params_file:\n",
    "    config = cloudpickle.load(params_file)\n",
    "\n",
    "register_env(\n",
    "    \"SupplyChainEnv\", lambda config: ph.utils.rllib.wrapper.RLlibEnvWrapper(SupplyChainEnv(**config))\n",
    ")\n",
    "\n",
    "trainer = get_trainer_class(\"PPO\")(env=\"SupplyChainEnv\", config=config)\n",
    "trainer.restore(directory + \"checkpoint_005700\")"
   ]
  },
  {
   "cell_type": "code",
   "execution_count": 60,
   "metadata": {},
   "outputs": [],
   "source": [
    "stocks = np.arange(0, 100)\n",
    "sales = np.arange(0, 25)\n",
    "\n",
    "restocks = np.ndarray((len(stocks), len(sales)))\n",
    "\n",
    "for s1 in stocks:\n",
    "    for s2 in sales:\n",
    "        obs = {\n",
    "            \"type\": {\n",
    "                \"sale_price\": np.array([1.0]),\n",
    "                \"cost_of_carry\": np.array([0.2]),\n",
    "                \"cost_per_unit\": np.array([0.5]),\n",
    "            },\n",
    "            \"stock\": s1,\n",
    "            \"previous_sales\": s2, \n",
    "        }\n",
    "\n",
    "        action = trainer.compute_single_action(\n",
    "            obs, policy_id=\"shop_policy\", explore=False\n",
    "        )\n",
    "\n",
    "        restocks[s1, s2] = action[\"restock\"]"
   ]
  },
  {
   "cell_type": "code",
   "execution_count": 68,
   "metadata": {},
   "outputs": [
    {
     "data": {
      "image/png": "[encoded data removed]",
      "text/plain": [
       "<Figure size 720x720 with 2 Axes>"
      ]
     },
     "metadata": {
      "needs_background": "light"
     },
     "output_type": "display_data"
    }
   ],
   "source": [
    "plt.figure(figsize=(10,10))\n",
    "plt.title(\"Price = 1.0, Cost per Unit = 0.5, Cost of carry = 0.2\")\n",
    "plt.imshow(restocks[:30,])\n",
    "plt.colorbar()\n",
    "plt.xlabel(\"Sales\")\n",
    "plt.ylabel(\"Stock\")\n",
    "plt.gca().invert_yaxis()\n",
    "plt.show()"
   ]
  }
 ],
 "metadata": {
  "kernelspec": {
   "display_name": "Python 3.8.10 64-bit",
   "language": "python",
   "name": "python3"
  },
  "language_info": {
   "codemirror_mode": {
    "name": "ipython",
    "version": 3
   },
   "file_extension": ".py",
   "mimetype": "text/x-python",
   "name": "python",
   "nbconvert_exporter": "python",
   "pygments_lexer": "ipython3",
   "version": "3.8.10"
  },
  "orig_nbformat": 4,
  "vscode": {
   "interpreter": {
    "hash": "31f2aee4e71d21fbe5cf8b01ff0e069b9275f58929596ceb00d14d90e3e16cd6"
   }
  }
 },
 "nbformat": 4,
 "nbformat_minor": 2
}
