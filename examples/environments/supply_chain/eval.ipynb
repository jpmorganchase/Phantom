{
 "cells": [
  {
   "cell_type": "code",
   "execution_count": 2,
   "metadata": {},
   "outputs": [],
   "source": [
    "import pickle\n",
    "import sys\n",
    "from dataclasses import dataclass\n",
    "from typing import List, Optional, Tuple\n",
    "\n",
    "import gym\n",
    "import numpy as np\n",
    "import phantom as ph\n",
    "\n",
    "from supply_chain import *"
   ]
  },
  {
   "cell_type": "code",
   "execution_count": 18,
   "metadata": {},
   "outputs": [
    {
     "name": "stdout",
     "output_type": "stream",
     "text": [
      "\u001b[33m================================================================\n",
      "WARNING: The $PYTHONHASHSEED environment variable is not set!\n",
      "Please set this before using Phantom to improve reproducibility.\n",
      "================================================================\u001b[0m\n"
     ]
    },
    {
     "name": "stderr",
     "output_type": "stream",
     "text": [
      "  0%|          | 0/10100 [00:00<?, ?it/s]2022-09-01 17:13:49,688\tINFO worker.py:1518 -- Started a local Ray instance.\n",
      "2022-09-01 17:13:50,729\tINFO worker.py:1518 -- Started a local Ray instance.\n",
      "2022-09-01 17:13:50,891\tINFO worker.py:1518 -- Started a local Ray instance.\n",
      "2022-09-01 17:13:52,162\tINFO algorithm.py:1871 -- Your framework setting is 'tf', meaning you are using static-graph mode. Set framework='tf2' to enable eager execution with tf2.x. You may also then want to set eager_tracing=True in order to reach similar execution speed as with static-graph mode.\n",
      "2022-09-01 17:13:52,185\tINFO algorithm.py:351 -- Current log_level is WARN. For more information, set 'log_level': 'INFO' / 'DEBUG' or use the -v and -vv flags.\n",
      "2022-09-01 17:13:52,785\tINFO algorithm.py:1871 -- Your framework setting is 'tf', meaning you are using static-graph mode. Set framework='tf2' to enable eager execution with tf2.x. You may also then want to set eager_tracing=True in order to reach similar execution speed as with static-graph mode.\n",
      "2022-09-01 17:13:52,790\tINFO algorithm.py:351 -- Current log_level is WARN. For more information, set 'log_level': 'INFO' / 'DEBUG' or use the -v and -vv flags.\n",
      "2022-09-01 17:13:52,876\tINFO algorithm.py:1871 -- Your framework setting is 'tf', meaning you are using static-graph mode. Set framework='tf2' to enable eager execution with tf2.x. You may also then want to set eager_tracing=True in order to reach similar execution speed as with static-graph mode.\n",
      "2022-09-01 17:13:52,886\tINFO algorithm.py:351 -- Current log_level is WARN. For more information, set 'log_level': 'INFO' / 'DEBUG' or use the -v and -vv flags.\n",
      "2022-09-01 17:13:53,703\tINFO trainable.py:668 -- Restored on 10.0.10.57 from checkpoint: /home/ubuntu/ray_results/fcnet_32_32/PPO_SupplyChainEnv_ce55d_00000_0_2022-09-01_16-54-55/checkpoint_002000\n",
      "2022-09-01 17:13:53,714\tINFO trainable.py:677 -- Current state after restoring: {'_iteration': 2000, '_timesteps_total': None, '_time_total': 537.4731779098511, '_episodes_total': 6000}\n",
      "2022-09-01 17:13:53,782\tINFO trainable.py:668 -- Restored on 10.0.10.57 from checkpoint: /home/ubuntu/ray_results/fcnet_32_32/PPO_SupplyChainEnv_ce55d_00000_0_2022-09-01_16-54-55/checkpoint_002000\n",
      "2022-09-01 17:13:53,785\tINFO trainable.py:677 -- Current state after restoring: {'_iteration': 2000, '_timesteps_total': None, '_time_total': 537.4731779098511, '_episodes_total': 6000}\n",
      "  0%|          | 1/10100 [00:05<15:02:00,  5.36s/it]2022-09-01 17:13:53,899\tINFO trainable.py:668 -- Restored on 10.0.10.57 from checkpoint: /home/ubuntu/ray_results/fcnet_32_32/PPO_SupplyChainEnv_ce55d_00000_0_2022-09-01_16-54-55/checkpoint_002000\n",
      "2022-09-01 17:13:53,901\tINFO trainable.py:677 -- Current state after restoring: {'_iteration': 2000, '_timesteps_total': None, '_time_total': 537.4731779098511, '_episodes_total': 6000}\n",
      "100%|██████████| 10100/10100 [04:21<00:00, 19.60it/s]E0901 17:18:10.379293260  459141 chttp2_transport.cc:1103]   Received a GOAWAY with error code ENHANCE_YOUR_CALM and debug data equal to \"too_many_pings\"\n",
      "100%|██████████| 10100/10100 [04:21<00:00, 38.56it/s]\n"
     ]
    }
   ],
   "source": [
    "def fn(rollout):\n",
    "    return {\n",
    "        \"cost_of_carry\": rollout.env_config[\"agent_supertypes\"][\"SHOP1\"].cost_of_carry,\n",
    "        \"mean_stock_held\": np.mean(rollout.metrics[\"stock/SHOP1\"]),\n",
    "    }\n",
    "\n",
    "results = ph.utils.rllib.rollout(\n",
    "    directory=\"PPO/LATEST\",\n",
    "    algorithm=\"PPO\",\n",
    "    env_class=SupplyChainEnv,\n",
    "    env_config={\n",
    "        \"agent_supertypes\": {\n",
    "            shop_id: ShopAgent.Supertype(\n",
    "                cost_of_carry=ph.utils.ranges.UniformRange(\n",
    "                    start=0.0,\n",
    "                    end=0.2 + 0.005,\n",
    "                    step=0.001,\n",
    "                ),\n",
    "                # cost_per_unit=ph.utils.ranges.UniformRange(\n",
    "                #     start=0.2,\n",
    "                #     end=0.8 + 0.001,\n",
    "                #     step=0.05,\n",
    "                # ),\n",
    "                sale_price=1.0,\n",
    "                # cost_of_carry=0.05,\n",
    "                cost_per_unit=0.5,\n",
    "            )\n",
    "            for shop_id in SHOP_IDS\n",
    "        }\n",
    "    },\n",
    "    num_repeats=100,\n",
    "    metrics=metrics,\n",
    "    record_messages=False,\n",
    "    result_mapping_fn=fn,\n",
    ")"
   ]
  },
  {
   "cell_type": "code",
   "execution_count": 19,
   "metadata": {},
   "outputs": [
    {
     "data": {
      "image/png": "[encoded data removed]",
      "text/plain": [
       "<Figure size 432x288 with 1 Axes>"
      ]
     },
     "metadata": {
      "needs_background": "light"
     },
     "output_type": "display_data"
    }
   ],
   "source": [
    "# print([x for x in results[0].actions_for_agent(\"SHOP1\") if x])\n",
    "# print(results[0].metrics[\"sales/SHOP1\"])\n",
    "# print(results[0].metrics[\"stock/SHOP1\"])\n",
    "\n",
    "from collections import defaultdict\n",
    "import matplotlib.pyplot as plt\n",
    "\n",
    "S = 100\n",
    "x = np.arange(S)\n",
    "y = np.zeros(S)\n",
    "\n",
    "data = defaultdict(list)\n",
    "\n",
    "for result in results:\n",
    "    data[result[\"cost_of_carry\"]].append(result[\"mean_stock_held\"])\n",
    "\n",
    "x = list(data.keys())\n",
    "y = list(map(np.mean, data.values()))\n",
    "\n",
    "plt.scatter(x, y)\n",
    "plt.show()"
   ]
  }
 ],
 "metadata": {
  "kernelspec": {
   "display_name": "Python 3.8.10 64-bit",
   "language": "python",
   "name": "python3"
  },
  "language_info": {
   "codemirror_mode": {
    "name": "ipython",
    "version": 3
   },
   "file_extension": ".py",
   "mimetype": "text/x-python",
   "name": "python",
   "nbconvert_exporter": "python",
   "pygments_lexer": "ipython3",
   "version": "3.8.10"
  },
  "orig_nbformat": 4,
  "vscode": {
   "interpreter": {
    "hash": "31f2aee4e71d21fbe5cf8b01ff0e069b9275f58929596ceb00d14d90e3e16cd6"
   }
  }
 },
 "nbformat": 4,
 "nbformat_minor": 2
}
